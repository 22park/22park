{
  "nbformat": 4,
  "nbformat_minor": 0,
  "metadata": {
    "colab": {
      "name": "Untitled0.ipynb",
      "provenance": [],
      "authorship_tag": "ABX9TyNb3UZMPo7hFlwRntl0yyty",
      "include_colab_link": true
    },
    "kernelspec": {
      "name": "python3",
      "display_name": "Python 3"
    },
    "language_info": {
      "name": "python"
    }
  },
  "cells": [
    {
      "cell_type": "markdown",
      "metadata": {
        "id": "view-in-github",
        "colab_type": "text"
      },
      "source": [
        "<a href=\"https://colab.research.google.com/github/22park/22park/blob/main/Untitled0.ipynb\" target=\"_parent\"><img src=\"https://colab.research.google.com/assets/colab-badge.svg\" alt=\"Open In Colab\"/></a>"
      ]
    },
    {
      "cell_type": "markdown",
      "source": [
        ""
      ],
      "metadata": {
        "id": "8zT97DmnXfZB"
      }
    },
    {
      "cell_type": "code",
      "source": [
        "import math  # 1. math라는 수학 모둘을 가져온다.\n",
        "#from math import sqrt  # 2. math라는 모듈에서 근의 공식을 구하는 수학함수 sqrt만을 가져온다.\n",
        "print(\"'a, b, c' 3개의 값을 입력하시오\")\n",
        "a = int(input(\"Enter the a:  \"))   # a값을 int로 입력받는다.\n",
        "b = int(input(\"Enter the b:  \"))   # b값을 int로 입력받는다.\n",
        "c = int(input(\"Enter the c:  \"))   # c값을 int로 입력받는다.\n",
        "\n",
        "d = math.sqrt(b*b) - (4*a*c); # 1. math 모듈을 가져올 때는 이렇게 사용\n",
        "#d = sqrt(b*b) - (4*a*c);     # 2. sqrt 함수만을 가져올 때는 이렇게 사용    \n",
        "x1 = (-b+d) / (2 * a);\n",
        "x2 = (-b-d) / (2 * a);\n",
        "print(x1 , x2)\n",
        "\n"
      ],
      "metadata": {
        "colab": {
          "base_uri": "https://localhost:8080/"
        },
        "id": "czZ3ELjjHA7f",
        "outputId": "95f51f06-a326-4e4c-e677-7785178e64d6"
      },
      "execution_count": null,
      "outputs": [
        {
          "output_type": "stream",
          "name": "stdout",
          "text": [
            "'a, b, c' 3개의 값을 입력하시오\n",
            "Enter the a:  2\n",
            "Enter the b:  3\n",
            "Enter the c:  2\n",
            "-4.0 2.5\n"
          ]
        }
      ]
    }
  ]
}