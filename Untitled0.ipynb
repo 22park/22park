{
  "nbformat": 4,
  "nbformat_minor": 0,
  "metadata": {
    "colab": {
      "name": "Untitled0.ipynb",
      "provenance": [],
      "authorship_tag": "ABX9TyP2+KbwtWxnWxRMJYnoa+g9",
      "include_colab_link": true
    },
    "kernelspec": {
      "name": "python3",
      "display_name": "Python 3"
    },
    "language_info": {
      "name": "python"
    }
  },
  "cells": [
    {
      "cell_type": "markdown",
      "metadata": {
        "id": "view-in-github",
        "colab_type": "text"
      },
      "source": [
        "<a href=\"https://colab.research.google.com/github/22park/22park/blob/main/Untitled0.ipynb\" target=\"_parent\"><img src=\"https://colab.research.google.com/assets/colab-badge.svg\" alt=\"Open In Colab\"/></a>"
      ]
    },
    {
      "cell_type": "markdown",
      "source": [
        ""
      ],
      "metadata": {
        "id": "8zT97DmnXfZB"
      }
    },
    {
      "cell_type": "code",
      "source": [
        "    print(\"근무 시간을 입력하시오\")\n",
        "    work_hour=int(input(\"# 근무시간입력:  \"))\n",
        "\n",
        "    if work_hour > 72 :\n",
        "        print(\"초과근무 하셨습니다.\")\n",
        "    else:\n",
        "        print(\"정상근무하셨습니다.\")"
      ],
      "metadata": {
        "id": "ctVq9m-Qq3dW",
        "outputId": "408a3fee-a696-4625-bebd-c3c6f655b24a",
        "colab": {
          "base_uri": "https://localhost:8080/"
        }
      },
      "execution_count": 54,
      "outputs": [
        {
          "output_type": "stream",
          "name": "stdout",
          "text": [
            "근무 시간을 입력하시오\n",
            "# 근무시간입력:  74\n",
            "초과근무 하셨습니다.\n"
          ]
        }
      ]
    }
  ]
}