{
  "nbformat": 4,
  "nbformat_minor": 0,
  "metadata": {
    "colab": {
      "name": "Untitled0.ipynb",
      "provenance": [],
      "authorship_tag": "ABX9TyP4ucX3myovB6PIFiE02+n6",
      "include_colab_link": true
    },
    "kernelspec": {
      "name": "python3",
      "display_name": "Python 3"
    },
    "language_info": {
      "name": "python"
    }
  },
  "cells": [
    {
      "cell_type": "markdown",
      "metadata": {
        "id": "view-in-github",
        "colab_type": "text"
      },
      "source": [
        "<a href=\"https://colab.research.google.com/github/22park/22park/blob/main/Untitled0.ipynb\" target=\"_parent\"><img src=\"https://colab.research.google.com/assets/colab-badge.svg\" alt=\"Open In Colab\"/></a>"
      ]
    },
    {
      "cell_type": "markdown",
      "source": [
        ""
      ],
      "metadata": {
        "id": "8zT97DmnXfZB"
      }
    },
    {
      "cell_type": "code",
      "source": [
        "print(\"#################\")\n",
        "print(\"# 합격 불합격 프로그램 #\")\n",
        "print(\"#################\")\n",
        "\n",
        "grade = int(input(\"성적을 입력하시오:  \"))\n",
        "if grade > 60 :\n",
        "    print(\"합격\")\n",
        "else:\n",
        "    print(\"불합격\")"
      ],
      "metadata": {
        "colab": {
          "base_uri": "https://localhost:8080/"
        },
        "id": "NHHJP1ucqlAB",
        "outputId": "fffa7c7d-ff95-403c-978e-0185bda92aa2"
      },
      "execution_count": 53,
      "outputs": [
        {
          "output_type": "stream",
          "name": "stdout",
          "text": [
            "#################\n",
            "# 합격 불합격 프로그램 #\n",
            "#################\n",
            "성적을 입력하시오:  59\n",
            "불합격\n"
          ]
        }
      ]
    }
  ]
}