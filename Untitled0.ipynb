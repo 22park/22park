{
  "nbformat": 4,
  "nbformat_minor": 0,
  "metadata": {
    "colab": {
      "name": "Untitled0.ipynb",
      "provenance": [],
      "toc_visible": true,
      "authorship_tag": "ABX9TyNfoQtTnnk0g/Qzo9lJ9GOj",
      "include_colab_link": true
    },
    "kernelspec": {
      "name": "python3",
      "display_name": "Python 3"
    },
    "language_info": {
      "name": "python"
    }
  },
  "cells": [
    {
      "cell_type": "markdown",
      "metadata": {
        "id": "view-in-github",
        "colab_type": "text"
      },
      "source": [
        "<a href=\"https://colab.research.google.com/github/22park/22park/blob/main/Untitled0.ipynb\" target=\"_parent\"><img src=\"https://colab.research.google.com/assets/colab-badge.svg\" alt=\"Open In Colab\"/></a>"
      ]
    },
    {
      "cell_type": "code",
      "source": [
        "print(\"3개의 정수값을 입력하시오\")\n",
        "n1 = int(input(\"n1의 정수값을 입력:  \"))    # n1값을 int로 입력받는다.\n",
        "n2 = int(input(\"n1의 정수값을 입력:  \"))    # n2값을 int로 입력받는다.\n",
        "n3 = int(input(\"n1의 정수값을 입력:  \"))    # n3값을 int로 입력받는다.\n",
        "\n",
        "total = n1 + n2+ n3;\n",
        "average = total/3 ;\n",
        "print(average)"
      ],
      "metadata": {
        "id": "1716mbC4bU9P"
      },
      "execution_count": null,
      "outputs": []
    }
  ]
}