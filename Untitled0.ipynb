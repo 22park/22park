{
  "nbformat": 4,
  "nbformat_minor": 0,
  "metadata": {
    "colab": {
      "name": "Untitled0.ipynb",
      "provenance": [],
      "authorship_tag": "ABX9TyN6zqFrtHcdjihhEpudl8at",
      "include_colab_link": true
    },
    "kernelspec": {
      "name": "python3",
      "display_name": "Python 3"
    },
    "language_info": {
      "name": "python"
    }
  },
  "cells": [
    {
      "cell_type": "markdown",
      "metadata": {
        "id": "view-in-github",
        "colab_type": "text"
      },
      "source": [
        "<a href=\"https://colab.research.google.com/github/22park/22park/blob/main/Untitled0.ipynb\" target=\"_parent\"><img src=\"https://colab.research.google.com/assets/colab-badge.svg\" alt=\"Open In Colab\"/></a>"
      ]
    },
    {
      "cell_type": "markdown",
      "source": [
        ""
      ],
      "metadata": {
        "id": "8zT97DmnXfZB"
      }
    },
    {
      "cell_type": "code",
      "source": [
        "print(\"#################\")\n",
        "print(\"# 짝수와 홀수 판별 앱 #\")\n",
        "print(\"#################\")\n",
        "\n",
        "x = int(input(\"x값 정수를 입력하시오:  \"))\n",
        "if (x % 2) != 0 :\n",
        "    print(\"홀수입니다.\")\n",
        "else:\n",
        "    print(\"짝수입니다.\")"
      ],
      "metadata": {
        "colab": {
          "base_uri": "https://localhost:8080/"
        },
        "id": "TF4gN6GUrM-E",
        "outputId": "5b1888a0-6221-4519-a7b8-dbc767de74e1"
      },
      "execution_count": 55,
      "outputs": [
        {
          "output_type": "stream",
          "name": "stdout",
          "text": [
            "#################\n",
            "# 짝수와 홀수 판별 앱 #\n",
            "#################\n",
            "x값 정수를 입력하시오:  4\n",
            "짝수입니다.\n"
          ]
        }
      ]
    }
  ]
}