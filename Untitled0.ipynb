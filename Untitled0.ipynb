{
  "nbformat": 4,
  "nbformat_minor": 0,
  "metadata": {
    "colab": {
      "name": "Untitled0.ipynb",
      "provenance": [],
      "authorship_tag": "ABX9TyPXfajJuUkwE2/nLLt9qoVM",
      "include_colab_link": true
    },
    "kernelspec": {
      "name": "python3",
      "display_name": "Python 3"
    },
    "language_info": {
      "name": "python"
    }
  },
  "cells": [
    {
      "cell_type": "markdown",
      "metadata": {
        "id": "view-in-github",
        "colab_type": "text"
      },
      "source": [
        "<a href=\"https://colab.research.google.com/github/22park/22park/blob/main/Untitled0.ipynb\" target=\"_parent\"><img src=\"https://colab.research.google.com/assets/colab-badge.svg\" alt=\"Open In Colab\"/></a>"
      ]
    },
    {
      "cell_type": "markdown",
      "source": [
        ""
      ],
      "metadata": {
        "id": "8zT97DmnXfZB"
      }
    },
    {
      "cell_type": "code",
      "source": [
        "total = 0             # 0으로부터 시작(0으로 초기화)\n",
        "counter = 1           #\n",
        "while counter <= 10:\n",
        "    grade=int(input (\"Enter grade:    \"))\n",
        "    total = grade + total\n",
        "    counter = counter + 1\n",
        "average = total / 10\n",
        "print(average)"
      ],
      "metadata": {
        "colab": {
          "base_uri": "https://localhost:8080/"
        },
        "id": "1DRPgA6ufNiP",
        "outputId": "06c52021-6a44-4e1c-cc54-db7ba7480b88"
      },
      "execution_count": 40,
      "outputs": [
        {
          "output_type": "stream",
          "name": "stdout",
          "text": [
            "Enter grade:    1\n",
            "Enter grade:    1\n",
            "Enter grade:    1\n",
            "Enter grade:    1\n",
            "Enter grade:    1\n",
            "Enter grade:    1\n",
            "Enter grade:    1\n",
            "Enter grade:    1\n",
            "Enter grade:    1\n",
            "Enter grade:    100\n",
            "10.9\n"
          ]
        }
      ]
    }
  ]
}